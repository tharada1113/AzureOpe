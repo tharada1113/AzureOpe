{
 "cells": [
  {
   "cell_type": "code",
   "execution_count": 1,
   "metadata": {},
   "outputs": [],
   "source": [
    "import os\n",
    "from azure.storage.blob import BlockBlobService"
   ]
  },
  {
   "cell_type": "code",
   "execution_count": 20,
   "metadata": {},
   "outputs": [],
   "source": [
    "class BlobClient():\n",
    "    def __init__(self, conf):\n",
    "        # build client\n",
    "        self.client = BlockBlobService(\n",
    "                            account_name=conf['account_name'],\n",
    "                            account_key=conf['account_key'])\n",
    "    \n",
    "    def _fetch_remote(self, container):\n",
    "        # list all blob name in the container\n",
    "        print('getting blob list...')\n",
    "        return [x.name for x in self.client.list_blobs(container)]\n",
    "    \n",
    "    def _check_container(self, container):\n",
    "        if not container in [x.name for x in self.client.list_containers()]:\n",
    "            raise Exception('invalid container name')\n",
    "            \n",
    "    def all_download(self, container, local_dir_path):\n",
    "        # check container\n",
    "        self._check_container(container)\n",
    "        # check local dir\n",
    "        if not os.path.isdir(local_dir_path):\n",
    "            os.mkdir(local_dir_path)\n",
    "            \n",
    "        # download all blobs to local file\n",
    "        for blob in self._fetch_remote(container):\n",
    "            file_path = os.path.join(local_dir_path, blob)\n",
    "            # download blob\n",
    "            print('receiving blob: {}'.format(blob))\n",
    "            self.client.get_blob_to_path(container_name=container,\n",
    "                                         blob_name=blob,\n",
    "                                         file_path=file_path)\n",
    "        \n",
    "    def all_upload(self, container, local_dir_path):\n",
    "        # check container\n",
    "        self._check_container(container)\n",
    "        \n",
    "        # check local dir\n",
    "        if not os.path.isdir(local_dir_path):\n",
    "            raise Exception('direcotory is not found')\n",
    "            \n",
    "        # upload all local file to remote blob\n",
    "        for item in os.listdir(local_dir_path):\n",
    "            local_file_path = os.path.join(local_dir_path, item)\n",
    "            if os.path.isfile(local_file_path):\n",
    "                # upload file to blob\n",
    "                print('uploading file: {}'.format(item))\n",
    "                self.client.create_blob_from_path(container_name=container,\n",
    "                                                  blob_name=item,\n",
    "                                                  file_path=local_file_path)\n",
    "    \n",
    "    def select_download_by_fname(self, container, local_dir_path, download_fname):\n",
    "        #check container\n",
    "        self._check_container(container)\n",
    "        #check local dir\n",
    "        if not os.path.isdir(local_dir_path):\n",
    "            os.mkdir(local_dir_path)\n",
    "        \n",
    "        # download blobs to local file\n",
    "        for blob in self._fetch_remote(container):\n",
    "            if blob == download_fname:\n",
    "                file_path = os.path.join(local_dir_path, blob)\n",
    "                # download blob\n",
    "                print('receiving blob: {}'.format(blob))\n",
    "                self.client.get_blob_to_path(container_name=container,\n",
    "                                             blob_name=blob,\n",
    "                                             file_path=file_path)\n",
    "    \n",
    "    def select_download_by_regfname(self, container, local_dir_path, reg):\n",
    "        import re\n",
    "        #check container\n",
    "        self._check_container(container)\n",
    "        #check local dir\n",
    "        if not os.path.isdir(local_dir_path):\n",
    "            os.mkdir(local_dir_path)\n",
    "        \n",
    "        # download blobs to local file\n",
    "        for blob in self._fetch_remote(container):\n",
    "            if re.search(reg, blob):\n",
    "                file_path = os.path.join(local_dir_path, blob)\n",
    "                # download blob\n",
    "                print('receiving blob: {}'.format(blob))\n",
    "                self.client.get_blob_to_path(container_name=container,\n",
    "                                             blob_name=blob,\n",
    "                                             file_path=file_path)"
   ]
  },
  {
   "cell_type": "markdown",
   "metadata": {},
   "source": [
    "## ストレージアカウント名とアカウントキーを設定する"
   ]
  },
  {
   "cell_type": "code",
   "execution_count": 15,
   "metadata": {},
   "outputs": [],
   "source": [
    "config = {\n",
    "            \"account_name\": \"testmridlonest001\",\n",
    "             \"account_key\": \"Ih3wXwD3B8vcHY4efTsHPUCQQRXC3tRaUQwvkC4cGA9oYpfq2/2umYVwJd6SehKPZeIhU9FDLe3DL8DFus2xnw==\",\n",
    "         }"
   ]
  },
  {
   "cell_type": "code",
   "execution_count": 16,
   "metadata": {},
   "outputs": [],
   "source": [
    "client = BlobClient(config)"
   ]
  },
  {
   "cell_type": "markdown",
   "metadata": {},
   "source": [
    "### メソッド\n",
    "ex) client.all_download(container='test', local_dir_path='download')  \n",
    "- all_download(container='CONTAINER_NAME', loacl_dir_path='LOACL_DIRCTORY_PATH')\n",
    "- all_upload(container='CONTAINER_NAME', loacl_dir_path='LOACL_DIRCTORY_PATH')\n",
    "           "
   ]
  },
  {
   "cell_type": "code",
   "execution_count": 17,
   "metadata": {},
   "outputs": [
    {
     "name": "stdout",
     "output_type": "stream",
     "text": [
      "getting blob list...\n",
      "receiving blob: twice_006a43cc-8040-4afb-a8cb-21fe203e47d3.jpg\n"
     ]
    }
   ],
   "source": [
    "client.select_download_by_fname(container='picture',\n",
    "                                local_dir_path='tmp',\n",
    "                                download_fname='twice_006a43cc-8040-4afb-a8cb-21fe203e47d3.jpg')"
   ]
  },
  {
   "cell_type": "code",
   "execution_count": 19,
   "metadata": {},
   "outputs": [
    {
     "name": "stdout",
     "output_type": "stream",
     "text": [
      "getting blob list...\n",
      "receiving blob: twice_007cc0ad-4109-4df8-88b0-45352a01f735.jpg\n"
     ]
    }
   ],
   "source": [
    "client.select_download_by_regfname(container='picture',\n",
    "                                   local_dir_path='tmp',\n",
    "                                   reg='45352a01f735')"
   ]
  },
  {
   "cell_type": "code",
   "execution_count": null,
   "metadata": {},
   "outputs": [],
   "source": [
    "client.all_upload(container='picture', local_dir_path='pic/twice')"
   ]
  },
  {
   "cell_type": "code",
   "execution_count": null,
   "metadata": {},
   "outputs": [],
   "source": [
    "client.all_upload(container='json',\n",
    "                  local_dir_path='pic/result')"
   ]
  },
  {
   "cell_type": "code",
   "execution_count": null,
   "metadata": {},
   "outputs": [],
   "source": [
    "client.all_download(container='wpadata',\n",
    "                    local_dir_path='blob_download')"
   ]
  }
 ],
 "metadata": {
  "kernelspec": {
   "display_name": "Python 3.5",
   "language": "python",
   "name": "python3"
  },
  "language_info": {
   "codemirror_mode": {
    "name": "ipython",
    "version": 3
   },
   "file_extension": ".py",
   "mimetype": "text/x-python",
   "name": "python",
   "nbconvert_exporter": "python",
   "pygments_lexer": "ipython3",
   "version": "3.5.5"
  }
 },
 "nbformat": 4,
 "nbformat_minor": 2
}
